{
  "nbformat": 4,
  "nbformat_minor": 0,
  "metadata": {
    "colab": {
      "provenance": [],
      "authorship_tag": "ABX9TyNFvf4czov5VPulLQHPLzds",
      "include_colab_link": true
    },
    "kernelspec": {
      "name": "python3",
      "display_name": "Python 3"
    },
    "language_info": {
      "name": "python"
    }
  },
  "cells": [
    {
      "cell_type": "markdown",
      "metadata": {
        "id": "view-in-github",
        "colab_type": "text"
      },
      "source": [
        "<a href=\"https://colab.research.google.com/github/mrCarterData/Python_codes/blob/main/PythonBasics.ipynb\" target=\"_parent\"><img src=\"https://colab.research.google.com/assets/colab-badge.svg\" alt=\"Open In Colab\"/></a>"
      ]
    },
    {
      "cell_type": "code",
      "execution_count": null,
      "metadata": {
        "id": "FxkFmjlAjACG"
      },
      "outputs": [],
      "source": [
        "print(\"My name is, Randy.\")"
      ]
    },
    {
      "cell_type": "code",
      "source": [
        "print(2+2)"
      ],
      "metadata": {
        "colab": {
          "base_uri": "https://localhost:8080/"
        },
        "id": "dpvzJ_4Nj4Np",
        "outputId": "31d21dfc-436b-48ae-ac57-50c046ba3f78"
      },
      "execution_count": null,
      "outputs": [
        {
          "output_type": "stream",
          "name": "stdout",
          "text": [
            "4\n"
          ]
        }
      ]
    },
    {
      "cell_type": "code",
      "source": [
        "print(\"I am new to python!\")"
      ],
      "metadata": {
        "colab": {
          "base_uri": "https://localhost:8080/"
        },
        "id": "JRi-6WqDkORr",
        "outputId": "f00d3865-42d6-4d3f-eead-e4a7a131eabf"
      },
      "execution_count": null,
      "outputs": [
        {
          "output_type": "stream",
          "name": "stdout",
          "text": [
            "I am new to python!\n"
          ]
        }
      ]
    },
    {
      "cell_type": "code",
      "source": [
        "help(print)"
      ],
      "metadata": {
        "colab": {
          "base_uri": "https://localhost:8080/"
        },
        "id": "IzatSHKkkbai",
        "outputId": "c8dd6054-d4d8-4f01-9a91-9da015a1b921"
      },
      "execution_count": null,
      "outputs": [
        {
          "output_type": "stream",
          "name": "stdout",
          "text": [
            "Help on built-in function print in module builtins:\n",
            "\n",
            "print(...)\n",
            "    print(value, ..., sep=' ', end='\\n', file=sys.stdout, flush=False)\n",
            "    \n",
            "    Prints the values to a stream, or to sys.stdout by default.\n",
            "    Optional keyword arguments:\n",
            "    file:  a file-like object (stream); defaults to the current sys.stdout.\n",
            "    sep:   string inserted between values, default a space.\n",
            "    end:   string appended after the last value, default a newline.\n",
            "    flush: whether to forcibly flush the stream.\n",
            "\n"
          ]
        }
      ]
    },
    {
      "cell_type": "code",
      "source": [
        "#this is how we create a single line comment\n",
        "print(\"It works like this.\")"
      ],
      "metadata": {
        "colab": {
          "base_uri": "https://localhost:8080/"
        },
        "id": "V8vmlFYLkyUK",
        "outputId": "7663eb8b-5ccd-4ed2-e953-6267171a5c5b"
      },
      "execution_count": null,
      "outputs": [
        {
          "output_type": "stream",
          "name": "stdout",
          "text": [
            "It works like this.\n"
          ]
        }
      ]
    },
    {
      "cell_type": "code",
      "source": [
        "\"\"\"This is the beginiing.\n",
        "This is how we create multi line comments\"\"\"\n",
        "print(\"It works like this.\")"
      ],
      "metadata": {
        "colab": {
          "base_uri": "https://localhost:8080/"
        },
        "id": "C3irS2rOlwtp",
        "outputId": "4769d4b4-8044-473c-c5c0-d84defa2cd00"
      },
      "execution_count": null,
      "outputs": [
        {
          "output_type": "stream",
          "name": "stdout",
          "text": [
            "It works like this.\n"
          ]
        }
      ]
    },
    {
      "cell_type": "code",
      "source": [
        "#It is possible to write within my code blocks without python using #\n",
        "print(\"I am learning python.\")"
      ],
      "metadata": {
        "colab": {
          "base_uri": "https://localhost:8080/"
        },
        "id": "hk-Bva4TmbPD",
        "outputId": "188c6724-34c4-4d15-ff44-48ce73fc6375"
      },
      "execution_count": null,
      "outputs": [
        {
          "output_type": "stream",
          "name": "stdout",
          "text": [
            "I am learning python.\n"
          ]
        }
      ]
    },
    {
      "cell_type": "code",
      "source": [
        "\"\"\"Variable names always starts with a lower case letter or an underscore.\n",
        "Only underscores are allowed as special characters.\n",
        "Valriable names can not start with a number but numbers can be part of variables.\n",
        "\"\"\""
      ],
      "metadata": {
        "id": "xjivRluJm95v"
      },
      "execution_count": null,
      "outputs": []
    },
    {
      "cell_type": "code",
      "source": [
        "x=5\n",
        "print(x)"
      ],
      "metadata": {
        "colab": {
          "base_uri": "https://localhost:8080/"
        },
        "id": "y2lqnOxcnT99",
        "outputId": "8f916382-ab01-4f8c-8a6f-c3a4f08255d6"
      },
      "execution_count": null,
      "outputs": [
        {
          "output_type": "stream",
          "name": "stdout",
          "text": [
            "5\n"
          ]
        }
      ]
    },
    {
      "cell_type": "code",
      "source": [
        "age=30\n",
        "print(age)"
      ],
      "metadata": {
        "colab": {
          "base_uri": "https://localhost:8080/"
        },
        "id": "npzHwjXfnysr",
        "outputId": "c690bedc-2cbc-4d83-bcb1-7e2151aa6f76"
      },
      "execution_count": null,
      "outputs": [
        {
          "output_type": "stream",
          "name": "stdout",
          "text": [
            "30\n"
          ]
        }
      ]
    },
    {
      "cell_type": "code",
      "source": [
        "name = input(\"name\")\n",
        "print(\"My name is\", name)"
      ],
      "metadata": {
        "colab": {
          "base_uri": "https://localhost:8080/"
        },
        "id": "-reGTWHQoERZ",
        "outputId": "b5d4fc0a-03d5-407e-f080-2bc4ab439b96"
      },
      "execution_count": null,
      "outputs": [
        {
          "output_type": "stream",
          "name": "stdout",
          "text": [
            "nameBob\n",
            "My name is Bob\n"
          ]
        }
      ]
    },
    {
      "cell_type": "code",
      "source": [
        "name=input(\"name\")\n",
        "age=input(\"age\")\n",
        "print(\"Hey\", name, \"I am glad that you started learning python at the\", age)"
      ],
      "metadata": {
        "colab": {
          "base_uri": "https://localhost:8080/"
        },
        "id": "_emGT7m7o-t_",
        "outputId": "97e12fb9-cb22-4434-ba44-f5bb5058c93c"
      },
      "execution_count": null,
      "outputs": [
        {
          "output_type": "stream",
          "name": "stdout",
          "text": [
            "nameRandy\n",
            "age30\n",
            "Hey Randy I am glad that you started learning python at the 30\n"
          ]
        }
      ]
    },
    {
      "cell_type": "code",
      "source": [
        "x=5\n",
        "type(x)"
      ],
      "metadata": {
        "colab": {
          "base_uri": "https://localhost:8080/"
        },
        "id": "5QfASsmWqOzO",
        "outputId": "e04e1325-5315-4703-9876-259b516fa97f"
      },
      "execution_count": null,
      "outputs": [
        {
          "output_type": "execute_result",
          "data": {
            "text/plain": [
              "int"
            ]
          },
          "metadata": {},
          "execution_count": 24
        }
      ]
    },
    {
      "cell_type": "code",
      "source": [
        "b=5.25\n",
        "type(b)"
      ],
      "metadata": {
        "colab": {
          "base_uri": "https://localhost:8080/"
        },
        "id": "9r-jgJePqe-F",
        "outputId": "80b55c3c-3d65-438d-d37a-88b28f13a8a5"
      },
      "execution_count": null,
      "outputs": [
        {
          "output_type": "execute_result",
          "data": {
            "text/plain": [
              "float"
            ]
          },
          "metadata": {},
          "execution_count": 25
        }
      ]
    },
    {
      "cell_type": "code",
      "source": [
        "v=\"cat\"\n",
        "type(v)"
      ],
      "metadata": {
        "colab": {
          "base_uri": "https://localhost:8080/"
        },
        "id": "8cj1vSplqqIn",
        "outputId": "4152f15c-4c3d-4889-d53d-c88251950924"
      },
      "execution_count": null,
      "outputs": [
        {
          "output_type": "execute_result",
          "data": {
            "text/plain": [
              "str"
            ]
          },
          "metadata": {},
          "execution_count": 26
        }
      ]
    },
    {
      "cell_type": "code",
      "source": [
        "x=\"12\"\n",
        "type(x)"
      ],
      "metadata": {
        "colab": {
          "base_uri": "https://localhost:8080/"
        },
        "id": "bVfWk0PhrCay",
        "outputId": "823d163d-6632-4453-b340-1669a65de886"
      },
      "execution_count": null,
      "outputs": [
        {
          "output_type": "execute_result",
          "data": {
            "text/plain": [
              "str"
            ]
          },
          "metadata": {},
          "execution_count": 27
        }
      ]
    },
    {
      "cell_type": "code",
      "source": [
        "discount=43.8\n",
        "type(discount)"
      ],
      "metadata": {
        "colab": {
          "base_uri": "https://localhost:8080/"
        },
        "id": "_Nh50O6TrW27",
        "outputId": "74a3ff8e-148e-4966-8cf4-62858def1bba"
      },
      "execution_count": null,
      "outputs": [
        {
          "output_type": "execute_result",
          "data": {
            "text/plain": [
              "float"
            ]
          },
          "metadata": {},
          "execution_count": 28
        }
      ]
    },
    {
      "cell_type": "code",
      "source": [
        "height=143\n",
        "type(height)"
      ],
      "metadata": {
        "colab": {
          "base_uri": "https://localhost:8080/"
        },
        "id": "QgP-E8CTrjgw",
        "outputId": "c24e72d5-70bd-4fca-bfc0-9789e40d0af7"
      },
      "execution_count": null,
      "outputs": [
        {
          "output_type": "execute_result",
          "data": {
            "text/plain": [
              "int"
            ]
          },
          "metadata": {},
          "execution_count": 29
        }
      ]
    },
    {
      "cell_type": "code",
      "source": [
        "address='#301, Pelican Street'\n",
        "type(address)"
      ],
      "metadata": {
        "colab": {
          "base_uri": "https://localhost:8080/"
        },
        "id": "Iof7TgGQroS_",
        "outputId": "692a95a7-0a9c-479b-ac86-7114ec187dc3"
      },
      "execution_count": null,
      "outputs": [
        {
          "output_type": "execute_result",
          "data": {
            "text/plain": [
              "str"
            ]
          },
          "metadata": {},
          "execution_count": 30
        }
      ]
    },
    {
      "cell_type": "code",
      "source": [
        "grocery=[\"apple\",\"banana\",\"vegetables\"]\n",
        "print(grocery)\n",
        "print(len(grocery))\n",
        "type(grocery)"
      ],
      "metadata": {
        "colab": {
          "base_uri": "https://localhost:8080/"
        },
        "id": "te_UMF-BuJPV",
        "outputId": "7bf13941-16aa-42cc-b2f6-0327aab9fb7e"
      },
      "execution_count": null,
      "outputs": [
        {
          "output_type": "stream",
          "name": "stdout",
          "text": [
            "['apple', 'banana', 'vegetables']\n",
            "3\n"
          ]
        },
        {
          "output_type": "execute_result",
          "data": {
            "text/plain": [
              "list"
            ]
          },
          "metadata": {},
          "execution_count": 33
        }
      ]
    },
    {
      "cell_type": "code",
      "source": [
        "cars=('ford','chevrolet','cadilac','mercedez')\n",
        "print(cars)\n",
        "print(len(cars))\n",
        "type(cars)"
      ],
      "metadata": {
        "colab": {
          "base_uri": "https://localhost:8080/"
        },
        "id": "-xd-fEqIuz7i",
        "outputId": "82539f40-d69f-43eb-e86b-5fc0e5b16ea5"
      },
      "execution_count": null,
      "outputs": [
        {
          "output_type": "stream",
          "name": "stdout",
          "text": [
            "('ford', 'chevrolet', 'cadilac', 'mercedez')\n",
            "4\n"
          ]
        },
        {
          "output_type": "execute_result",
          "data": {
            "text/plain": [
              "tuple"
            ]
          },
          "metadata": {},
          "execution_count": 34
        }
      ]
    },
    {
      "cell_type": "code",
      "source": [
        "my_favs=['blue','steak','atlanta']\n",
        "print(my_favs)"
      ],
      "metadata": {
        "colab": {
          "base_uri": "https://localhost:8080/"
        },
        "id": "7XgcqNzZwLXL",
        "outputId": "c5590907-88d0-40f1-8690-a945b7a3a18a"
      },
      "execution_count": null,
      "outputs": [
        {
          "output_type": "stream",
          "name": "stdout",
          "text": [
            "['blue', 'steak', 'atlanta']\n"
          ]
        }
      ]
    },
    {
      "cell_type": "code",
      "source": [
        "range_example=range(0,10)\n",
        "print(len(range_example))\n",
        "print(range_example)\n",
        "type(range_example)"
      ],
      "metadata": {
        "colab": {
          "base_uri": "https://localhost:8080/"
        },
        "id": "tl4nP1uHwrjV",
        "outputId": "f995e509-004b-4d4d-cada-ecb0372002f6"
      },
      "execution_count": null,
      "outputs": [
        {
          "output_type": "stream",
          "name": "stdout",
          "text": [
            "10\n",
            "range(0, 10)\n"
          ]
        },
        {
          "output_type": "execute_result",
          "data": {
            "text/plain": [
              "range"
            ]
          },
          "metadata": {},
          "execution_count": 37
        }
      ]
    },
    {
      "cell_type": "code",
      "source": [
        "range_example_1=range(0,20,2)\n",
        "print(len(range_example_1))\n",
        "print(range)\n",
        "type(range_example_1)"
      ],
      "metadata": {
        "colab": {
          "base_uri": "https://localhost:8080/"
        },
        "id": "xd54My24xs5r",
        "outputId": "f696a43d-84a3-43bf-ce15-af4c6df1bdd6"
      },
      "execution_count": null,
      "outputs": [
        {
          "output_type": "stream",
          "name": "stdout",
          "text": [
            "10\n",
            "<class 'range'>\n"
          ]
        },
        {
          "output_type": "execute_result",
          "data": {
            "text/plain": [
              "range"
            ]
          },
          "metadata": {},
          "execution_count": 38
        }
      ]
    },
    {
      "cell_type": "code",
      "source": [
        "range_excercise=range(4,40)\n",
        "print(len(range_excercise))"
      ],
      "metadata": {
        "colab": {
          "base_uri": "https://localhost:8080/"
        },
        "id": "MgQUcSz1yhKH",
        "outputId": "503a669d-579d-45fe-d0f1-a50844f15721"
      },
      "execution_count": null,
      "outputs": [
        {
          "output_type": "stream",
          "name": "stdout",
          "text": [
            "36\n"
          ]
        }
      ]
    },
    {
      "cell_type": "markdown",
      "source": [
        "Mapping Type(Dictionary)"
      ],
      "metadata": {
        "id": "Psrj9Tnqegjn"
      }
    },
    {
      "cell_type": "code",
      "source": [
        "d={\"Name\":\"Randy\",\"Age\":24,\"Weight\":100}\n",
        "print(d)\n",
        "print(len(d))\n",
        "print(type(d))"
      ],
      "metadata": {
        "colab": {
          "base_uri": "https://localhost:8080/"
        },
        "id": "mCJhLkekegEh",
        "outputId": "42d8f25e-d338-407f-cc1c-cedd8af0edfd"
      },
      "execution_count": null,
      "outputs": [
        {
          "output_type": "stream",
          "name": "stdout",
          "text": [
            "{'Name': 'Randy', 'Age': 24, 'Weight': 100}\n",
            "3\n",
            "<class 'dict'>\n"
          ]
        }
      ]
    },
    {
      "cell_type": "code",
      "source": [
        "y={'Model':'Chevrolet','Make':'Corvette','Year':2024}\n",
        "print(y)\n",
        "print(len(y))\n",
        "print(type(y))"
      ],
      "metadata": {
        "colab": {
          "base_uri": "https://localhost:8080/"
        },
        "id": "7JhonTjEfLRZ",
        "outputId": "284ee04e-099c-49f1-a08c-44f95517c173"
      },
      "execution_count": null,
      "outputs": [
        {
          "output_type": "stream",
          "name": "stdout",
          "text": [
            "{'Model': 'Chevrolet', 'Make': 'Corvette', 'Year': 2024}\n",
            "3\n",
            "<class 'dict'>\n"
          ]
        }
      ]
    },
    {
      "cell_type": "code",
      "source": [
        "b={'Jake':70,'Mako':75,'Alex':78.5}\n",
        "print(b)\n",
        "print(len(b))\n",
        "print(type(b))"
      ],
      "metadata": {
        "colab": {
          "base_uri": "https://localhost:8080/"
        },
        "id": "5vjRtclXf6ye",
        "outputId": "6ddbe3fc-29b1-4ab6-fb9d-e857880c6011"
      },
      "execution_count": null,
      "outputs": [
        {
          "output_type": "stream",
          "name": "stdout",
          "text": [
            "{'Jake': 70, 'Mako': 75, 'Alex': 78.5}\n",
            "3\n",
            "<class 'dict'>\n"
          ]
        }
      ]
    },
    {
      "cell_type": "markdown",
      "source": [
        "Boolean Type"
      ],
      "metadata": {
        "id": "o6Z_0aRKhj1q"
      }
    },
    {
      "cell_type": "code",
      "source": [
        "print(5>2)\n",
        "print(type(5>2))"
      ],
      "metadata": {
        "colab": {
          "base_uri": "https://localhost:8080/"
        },
        "id": "4hLvARlzhi5k",
        "outputId": "9e8b8694-c8fe-4c87-b823-a6eb5651e235"
      },
      "execution_count": null,
      "outputs": [
        {
          "output_type": "stream",
          "name": "stdout",
          "text": [
            "True\n",
            "<class 'bool'>\n"
          ]
        }
      ]
    },
    {
      "cell_type": "code",
      "source": [
        "print(3>7)\n",
        "print(type(3>7))"
      ],
      "metadata": {
        "colab": {
          "base_uri": "https://localhost:8080/"
        },
        "id": "7w4ZIt2Mh6aO",
        "outputId": "a5497f58-6aea-42c7-f9c4-072679a33ecd"
      },
      "execution_count": null,
      "outputs": [
        {
          "output_type": "stream",
          "name": "stdout",
          "text": [
            "False\n",
            "<class 'bool'>\n"
          ]
        }
      ]
    },
    {
      "cell_type": "code",
      "source": [
        "t=8\n",
        "r=9\n",
        "print(t<r)\n",
        "type(t<r)"
      ],
      "metadata": {
        "colab": {
          "base_uri": "https://localhost:8080/"
        },
        "id": "940IBmqIiGz_",
        "outputId": "c76f6bfd-ccfb-4b7a-c106-8ef871f21181"
      },
      "execution_count": null,
      "outputs": [
        {
          "output_type": "stream",
          "name": "stdout",
          "text": [
            "True\n"
          ]
        },
        {
          "output_type": "execute_result",
          "data": {
            "text/plain": [
              "bool"
            ]
          },
          "metadata": {},
          "execution_count": 10
        }
      ]
    },
    {
      "cell_type": "code",
      "source": [
        "n=100\n",
        "w=25\n",
        "print(w>n)\n",
        "print(type(w>n))"
      ],
      "metadata": {
        "colab": {
          "base_uri": "https://localhost:8080/"
        },
        "id": "ra283mAziUZd",
        "outputId": "4251e71c-0587-4d97-cfe8-a46aa0589421"
      },
      "execution_count": null,
      "outputs": [
        {
          "output_type": "stream",
          "name": "stdout",
          "text": [
            "False\n",
            "<class 'bool'>\n"
          ]
        }
      ]
    },
    {
      "cell_type": "code",
      "source": [
        "g={2,56,35,56,2,9.5,13}\n",
        "print(g)\n",
        "print(type(g))\n",
        "print(len(g))"
      ],
      "metadata": {
        "colab": {
          "base_uri": "https://localhost:8080/"
        },
        "id": "-wziMVZGijzF",
        "outputId": "9a588343-f13b-4e4d-f581-5310b1e3d616"
      },
      "execution_count": null,
      "outputs": [
        {
          "output_type": "stream",
          "name": "stdout",
          "text": [
            "{2, 35, 56, 9.5, 13}\n",
            "<class 'set'>\n",
            "5\n"
          ]
        }
      ]
    },
    {
      "cell_type": "code",
      "source": [
        "t={\"kiki\",\"hihi\",\"hey\",\"kiki\",\"hey\"}\n",
        "print(t)\n",
        "print(len(t))"
      ],
      "metadata": {
        "colab": {
          "base_uri": "https://localhost:8080/"
        },
        "id": "XBegB_2kjpe1",
        "outputId": "57c9a65d-0bc7-406c-ca55-41274a95861b"
      },
      "execution_count": null,
      "outputs": [
        {
          "output_type": "stream",
          "name": "stdout",
          "text": [
            "{'hihi', 'kiki', 'hey'}\n",
            "3\n"
          ]
        }
      ]
    },
    {
      "cell_type": "code",
      "source": [
        "H={\"bob\",\"tod\",8,0,1,3,\"Jack\"}\n",
        "print(H)\n",
        "print(len(H))\n",
        "print(type(H))"
      ],
      "metadata": {
        "colab": {
          "base_uri": "https://localhost:8080/"
        },
        "id": "MsdpLQXpkB3X",
        "outputId": "928a42c2-e984-4659-e4ce-00590fa67320"
      },
      "execution_count": null,
      "outputs": [
        {
          "output_type": "stream",
          "name": "stdout",
          "text": [
            "{0, 1, 3, 8, 'bob', 'Jack', 'tod'}\n",
            "7\n",
            "<class 'set'>\n"
          ]
        }
      ]
    },
    {
      "cell_type": "markdown",
      "source": [
        "OPERATORS\n"
      ],
      "metadata": {
        "id": "gFJg4uBQl4_h"
      }
    },
    {
      "cell_type": "markdown",
      "source": [
        "Numerical Operators"
      ],
      "metadata": {
        "id": "_1XTvHp9tRwe"
      }
    },
    {
      "cell_type": "code",
      "source": [
        "p=10\n",
        "v=4\n",
        "print(p+v)\n",
        "print(p-v)\n",
        "print(p*v)\n",
        "print(10/4)\n",
        "print(10//4)\n",
        "print(p%v)\n",
        "print(p**5)\n",
        "print(abs(p/v))\n",
        "print(abs(v-p))"
      ],
      "metadata": {
        "colab": {
          "base_uri": "https://localhost:8080/"
        },
        "id": "pyd1IctAoQu_",
        "outputId": "5e699172-ecd9-48c4-858b-90230a32d54a"
      },
      "execution_count": null,
      "outputs": [
        {
          "output_type": "stream",
          "name": "stdout",
          "text": [
            "14\n",
            "6\n",
            "40\n",
            "2.5\n",
            "2\n",
            "2\n",
            "100000\n",
            "2.5\n",
            "6\n"
          ]
        }
      ]
    },
    {
      "cell_type": "code",
      "source": [
        "print(abs(-5))\n",
        "print(abs(-3.44))\n",
        "print(round(4.46))\n",
        "print(round(5.51))\n",
        "print(round(6.5))\n",
        "print(bin(56))"
      ],
      "metadata": {
        "colab": {
          "base_uri": "https://localhost:8080/"
        },
        "id": "QVHA32amqdmF",
        "outputId": "aafa7975-c4bb-400b-f55c-d5915d731fe3"
      },
      "execution_count": null,
      "outputs": [
        {
          "output_type": "stream",
          "name": "stdout",
          "text": [
            "5\n",
            "3.44\n",
            "4\n",
            "6\n",
            "6\n",
            "0b111000\n"
          ]
        }
      ]
    },
    {
      "cell_type": "markdown",
      "source": [
        "Exercise 9"
      ],
      "metadata": {
        "id": "chfCGIrgt6He"
      }
    },
    {
      "cell_type": "code",
      "source": [
        "pi=3.14\n",
        "radius=float(input(\"Enter the radius: \"))\n",
        "area=pi*radius**2\n",
        "print(area)\n",
        "print(type(area))"
      ],
      "metadata": {
        "colab": {
          "base_uri": "https://localhost:8080/"
        },
        "id": "iwedTir3rZvi",
        "outputId": "971f63e2-22bc-4717-91fe-4b85cd02286b"
      },
      "execution_count": null,
      "outputs": [
        {
          "output_type": "stream",
          "name": "stdout",
          "text": [
            "Enter the radius: 5.5\n",
            "94.985\n",
            "<class 'float'>\n"
          ]
        }
      ]
    },
    {
      "cell_type": "markdown",
      "source": [
        "Comparison Operators"
      ],
      "metadata": {
        "id": "uP6-T-GXtMOm"
      }
    },
    {
      "cell_type": "code",
      "source": [
        "i=3\n",
        "j=6\n",
        "print(i>j)\n",
        "print(i<=j)\n",
        "print(j==i)\n",
        "print(i!=j)"
      ],
      "metadata": {
        "colab": {
          "base_uri": "https://localhost:8080/"
        },
        "id": "S2BI165atL26",
        "outputId": "9ebe05b4-8550-4808-beac-e15b71e864d9"
      },
      "execution_count": null,
      "outputs": [
        {
          "output_type": "stream",
          "name": "stdout",
          "text": [
            "False\n",
            "True\n",
            "False\n",
            "True\n"
          ]
        }
      ]
    },
    {
      "cell_type": "markdown",
      "source": [
        "Exercise 10"
      ],
      "metadata": {
        "id": "p1Gz3Miht9gn"
      }
    },
    {
      "cell_type": "code",
      "source": [
        "pi=3.14\n",
        "radius=float(input(\"Enter the radius: \"))\n",
        "area=pi*radius**2\n",
        "print(area)\n",
        "print(area > 50)"
      ],
      "metadata": {
        "colab": {
          "base_uri": "https://localhost:8080/"
        },
        "id": "P8-0cKExt_gu",
        "outputId": "d41513e1-8b77-4c97-dab5-1d65c096a04f"
      },
      "execution_count": null,
      "outputs": [
        {
          "output_type": "stream",
          "name": "stdout",
          "text": [
            "Enter the radius: 3\n",
            "28.26\n",
            "False\n"
          ]
        }
      ]
    },
    {
      "cell_type": "markdown",
      "source": [
        "Logic Operators"
      ],
      "metadata": {
        "id": "PGGIrZSNx1ye"
      }
    },
    {
      "cell_type": "code",
      "source": [
        "a=5\n",
        "b=4\n",
        "c=3\n",
        "d=9\n",
        "e=False\n",
        "print(a>b and c>d)\n",
        "print(a>b or c>d)\n",
        "print(not e)"
      ],
      "metadata": {
        "colab": {
          "base_uri": "https://localhost:8080/"
        },
        "id": "t_rfN_0Jx4de",
        "outputId": "800b2db5-eca7-4042-fd56-d977accf60f8"
      },
      "execution_count": null,
      "outputs": [
        {
          "output_type": "stream",
          "name": "stdout",
          "text": [
            "False\n",
            "True\n",
            "True\n"
          ]
        }
      ]
    },
    {
      "cell_type": "markdown",
      "source": [
        "Exercise 11"
      ],
      "metadata": {
        "id": "BLnNZ5r5zPyh"
      }
    },
    {
      "cell_type": "code",
      "source": [
        "pi=3.14\n",
        "radius=float(input(\"Enter the radius: \"))\n",
        "area=pi*radius**2\n",
        "print(area)\n",
        "print(area > 20 and area < 50)\n"
      ],
      "metadata": {
        "colab": {
          "base_uri": "https://localhost:8080/"
        },
        "id": "kQM2P1WXzTGX",
        "outputId": "a1365dcc-484c-456c-c4aa-572e298234da"
      },
      "execution_count": null,
      "outputs": [
        {
          "output_type": "stream",
          "name": "stdout",
          "text": [
            "Enter the radius: 3.4\n",
            "36.2984\n",
            "True\n"
          ]
        }
      ]
    },
    {
      "cell_type": "markdown",
      "source": [
        "Assignment Operator"
      ],
      "metadata": {
        "id": "uHMZTqGu0QRl"
      }
    },
    {
      "cell_type": "code",
      "source": [
        "w=45\n",
        "w+=3\n",
        "print(w)"
      ],
      "metadata": {
        "colab": {
          "base_uri": "https://localhost:8080/"
        },
        "id": "qraX8Elg0Ue9",
        "outputId": "a061fd28-4eff-482b-cc36-f58b5ac985a5"
      },
      "execution_count": null,
      "outputs": [
        {
          "output_type": "stream",
          "name": "stdout",
          "text": [
            "45\n"
          ]
        }
      ]
    },
    {
      "cell_type": "code",
      "source": [
        "w=45\n",
        "print(w)\n",
        "w*=3\n",
        "#w=w*3\n",
        "print(w)"
      ],
      "metadata": {
        "colab": {
          "base_uri": "https://localhost:8080/"
        },
        "id": "N7tAAtn-0zA8",
        "outputId": "4750c60b-b756-4338-81e8-956f653f4a4b"
      },
      "execution_count": null,
      "outputs": [
        {
          "output_type": "stream",
          "name": "stdout",
          "text": [
            "45\n",
            "135\n"
          ]
        }
      ]
    },
    {
      "cell_type": "code",
      "source": [
        "w=45\n",
        "w//=6\n",
        "print(w)"
      ],
      "metadata": {
        "colab": {
          "base_uri": "https://localhost:8080/"
        },
        "id": "pOGlcalA0_A0",
        "outputId": "a3ea7f54-8bb9-4d70-e348-4933ef285756"
      },
      "execution_count": null,
      "outputs": [
        {
          "output_type": "stream",
          "name": "stdout",
          "text": [
            "7\n"
          ]
        }
      ]
    },
    {
      "cell_type": "markdown",
      "source": [
        "Identity Operators"
      ],
      "metadata": {
        "id": "xrQJjoDo1KXc"
      }
    },
    {
      "cell_type": "code",
      "source": [
        "#to ckeck if 2 objects are equal or not\n",
        "x = [\"apple\", \"banana\"]\n",
        "y = [\"apple\", \"banana\"]\n",
        "\n",
        "z = x\n",
        "\n",
        "# 'is' test \n",
        "print(x is z)\n",
        "\n",
        "# 'is' test \n",
        "print(x is y)\n",
        "\n",
        "# equality test\n",
        "print(x == y)\n",
        "\n",
        "# 'is not' test\n",
        "print(x is not y)"
      ],
      "metadata": {
        "colab": {
          "base_uri": "https://localhost:8080/"
        },
        "id": "vQEAn1H-1M1R",
        "outputId": "f6d94ef8-86cc-4297-b2c0-d7fdc36c07da"
      },
      "execution_count": null,
      "outputs": [
        {
          "output_type": "stream",
          "name": "stdout",
          "text": [
            "True\n",
            "False\n",
            "True\n",
            "True\n"
          ]
        }
      ]
    },
    {
      "cell_type": "code",
      "source": [
        "my_list = [12, 34.5, 'Carter', True]\n",
        "print(my_list)\n",
        "my_list[3] = False\n",
        "print(my_list)\n"
      ],
      "metadata": {
        "colab": {
          "base_uri": "https://localhost:8080/"
        },
        "id": "WXXhbPvi6mSu",
        "outputId": "b871a6e2-6058-4cf9-bfe3-a0b68484bf71"
      },
      "execution_count": null,
      "outputs": [
        {
          "output_type": "stream",
          "name": "stdout",
          "text": [
            "[12, 34.5, 'Carter', True]\n",
            "[12, 34.5, 'Carter', False]\n"
          ]
        }
      ]
    },
    {
      "cell_type": "code",
      "source": [
        "name = 'Carter'\n",
        "name = 'Cazter'\n",
        "print(name)"
      ],
      "metadata": {
        "colab": {
          "base_uri": "https://localhost:8080/"
        },
        "id": "TPpwkNCv-BUd",
        "outputId": "8fb97655-b02b-4000-9ddc-a0043a3de44e"
      },
      "execution_count": null,
      "outputs": [
        {
          "output_type": "stream",
          "name": "stdout",
          "text": [
            "Cazter\n"
          ]
        }
      ]
    },
    {
      "cell_type": "code",
      "source": [
        "First_Name = 'Randy'\n",
        "Last_Name = 'Carter'\n",
        "print(First_Name)\n",
        "print(Last_Name)"
      ],
      "metadata": {
        "colab": {
          "base_uri": "https://localhost:8080/"
        },
        "id": "MSqgr_46FIwm",
        "outputId": "0529cbd1-1bb4-41ec-e9cc-330815a81437"
      },
      "execution_count": null,
      "outputs": [
        {
          "output_type": "stream",
          "name": "stdout",
          "text": [
            "Randy\n",
            "Carter\n"
          ]
        }
      ]
    },
    {
      "cell_type": "code",
      "source": [
        "my_str = 'ABCDEF'   #Start:Stop:Step\n",
        "new_str = my_str[1:5:3]\n",
        "print(new_str)"
      ],
      "metadata": {
        "colab": {
          "base_uri": "https://localhost:8080/"
        },
        "id": "RkaDaQ6kFf8P",
        "outputId": "2312c529-8e44-4e1e-dd36-92fabbe41720"
      },
      "execution_count": null,
      "outputs": [
        {
          "output_type": "stream",
          "name": "stdout",
          "text": [
            "BE\n"
          ]
        }
      ]
    },
    {
      "cell_type": "code",
      "source": [
        "s = 'hello'\n",
        "d = 'y' + s[1:len(s)] + 'w'\n",
        "print(d)"
      ],
      "metadata": {
        "colab": {
          "base_uri": "https://localhost:8080/"
        },
        "id": "6-Xxx8tFIu6H",
        "outputId": "92e7557c-5450-4895-9257-3d0a360e4488"
      },
      "execution_count": null,
      "outputs": [
        {
          "output_type": "stream",
          "name": "stdout",
          "text": [
            "yellow\n"
          ]
        }
      ]
    },
    {
      "cell_type": "code",
      "source": [
        "f_name = 'Randy'\n",
        "l_name = 'Carter'\n",
        "print(f_name + ' ' + l_name)\n"
      ],
      "metadata": {
        "colab": {
          "base_uri": "https://localhost:8080/"
        },
        "id": "Ff_kmp7aKwGG",
        "outputId": "dc6626c6-ac62-482b-bb73-7c6317ab616e"
      },
      "execution_count": null,
      "outputs": [
        {
          "output_type": "stream",
          "name": "stdout",
          "text": [
            "Randy Carter\n"
          ]
        }
      ]
    },
    {
      "cell_type": "code",
      "source": [
        "print('Randy' * 6)"
      ],
      "metadata": {
        "colab": {
          "base_uri": "https://localhost:8080/"
        },
        "id": "PWCu7rJqLzRT",
        "outputId": "7bfab5db-2802-4f73-c296-525cba0cf65a"
      },
      "execution_count": null,
      "outputs": [
        {
          "output_type": "stream",
          "name": "stdout",
          "text": [
            "RandyRandyRandyRandyRandyRandy\n"
          ]
        }
      ]
    },
    {
      "cell_type": "code",
      "source": [
        "name = 'Carter'\n",
        "print(name[-5])"
      ],
      "metadata": {
        "colab": {
          "base_uri": "https://localhost:8080/"
        },
        "id": "LtPcQAH5SuWr",
        "outputId": "a98e6c36-5ff0-459a-c405-47f7e9435ed1"
      },
      "execution_count": null,
      "outputs": [
        {
          "output_type": "stream",
          "name": "stdout",
          "text": [
            "a\n"
          ]
        }
      ]
    },
    {
      "cell_type": "code",
      "source": [
        "x = 'This is one sentence!'\n",
        "# print(x[8])\n",
        "# print(x[-13])\n",
        "print(x[8:11])"
      ],
      "metadata": {
        "colab": {
          "base_uri": "https://localhost:8080/"
        },
        "id": "sHe0UO1bS0gW",
        "outputId": "19256674-9ba1-4e2c-de90-4a236536e330"
      },
      "execution_count": null,
      "outputs": [
        {
          "output_type": "stream",
          "name": "stdout",
          "text": [
            "one\n"
          ]
        }
      ]
    },
    {
      "cell_type": "code",
      "source": [
        "Grocery_List = ['banana','milk']\n",
        "print(Grocery_List)\n",
        "# print(Grocery_List[0])\n",
        "Grocery_List.append('almond')\n",
        "print(Grocery_List)"
      ],
      "metadata": {
        "colab": {
          "base_uri": "https://localhost:8080/"
        },
        "id": "g3dMr7laXIuM",
        "outputId": "04d87b48-d534-4904-9e2e-6a52ad94b7ae"
      },
      "execution_count": null,
      "outputs": [
        {
          "output_type": "stream",
          "name": "stdout",
          "text": [
            "['banana', 'milk']\n",
            "['banana', 'milk', 'almond']\n"
          ]
        }
      ]
    },
    {
      "cell_type": "code",
      "source": [
        "my_list = [\n",
        "    [1,2,3],\n",
        "    ['Randy', 'Carter'],\n",
        "    [True, False],\n",
        "    [12.6, [12,14,19], 3.5]\n",
        "]\n",
        "\n",
        "#Common Question In Coding Interviews - Nested Dictionaries Within Nested Lists\n",
        "print(my_list[3][1][2])\n",
        "my_list[3][1][2] = 25  #changed 19 to 25\n",
        "print(my_list)"
      ],
      "metadata": {
        "colab": {
          "base_uri": "https://localhost:8080/"
        },
        "id": "2hDapcdfYVoK",
        "outputId": "44867201-db85-4093-ba49-1d20998137fb"
      },
      "execution_count": null,
      "outputs": [
        {
          "output_type": "stream",
          "name": "stdout",
          "text": [
            "19\n",
            "[[1, 2, 3], ['Randy', 'Carter'], [True, False], [12.6, [12, 14, 25], 3.5]]\n"
          ]
        }
      ]
    },
    {
      "cell_type": "code",
      "source": [
        "my_favs = [\n",
        "    ['lions' , 'killer whales' , 'pandas'] ,\n",
        "    ['blue' , 'black' , 'red'] ,\n",
        "    ['Kendrick' , '50' , 'Fredo']\n",
        "]\n",
        "print(my_favs)"
      ],
      "metadata": {
        "colab": {
          "base_uri": "https://localhost:8080/"
        },
        "id": "VVjtyPF0aTck",
        "outputId": "d8ab4bc5-76ea-48fb-f786-a0b781177993"
      },
      "execution_count": null,
      "outputs": [
        {
          "output_type": "stream",
          "name": "stdout",
          "text": [
            "[['lions', 'killer whales', 'pandas'], ['blue', 'black', 'red'], ['Kendrick', '50', 'Fredo']]\n"
          ]
        }
      ]
    },
    {
      "cell_type": "code",
      "source": [
        "l = [1,2,3,4,5]\n",
        "print(l)\n",
        "l.append('Carter')\n",
        "print(l)"
      ],
      "metadata": {
        "colab": {
          "base_uri": "https://localhost:8080/"
        },
        "id": "uwVw_cRPivJd",
        "outputId": "d0a0d587-8c60-45c7-edc8-7663108a9b5b"
      },
      "execution_count": null,
      "outputs": [
        {
          "output_type": "stream",
          "name": "stdout",
          "text": [
            "[1, 2, 3, 4, 5]\n",
            "[1, 2, 3, 4, 5, 'Carter']\n"
          ]
        }
      ]
    },
    {
      "cell_type": "code",
      "source": [
        "l = [1,2,3,4,5]\n",
        "print(l)\n",
        "l.extend([7,8,9])\n",
        "print(l)"
      ],
      "metadata": {
        "colab": {
          "base_uri": "https://localhost:8080/"
        },
        "id": "0fbFYnFYjUlK",
        "outputId": "ab232685-5b20-43d0-ad88-7e1ec6d0fe69"
      },
      "execution_count": null,
      "outputs": [
        {
          "output_type": "stream",
          "name": "stdout",
          "text": [
            "[1, 2, 3, 4, 5]\n",
            "[1, 2, 3, 4, 5, 7, 8, 9]\n"
          ]
        }
      ]
    },
    {
      "cell_type": "code",
      "source": [
        "l = [1,2,3,4,5]\n",
        "print(l)\n",
        "l.insert(4, 'Carter')\n",
        "print(l)"
      ],
      "metadata": {
        "colab": {
          "base_uri": "https://localhost:8080/"
        },
        "id": "XMzU_csjjpgQ",
        "outputId": "4524ef87-1c0a-4ebe-aaac-ff248833ab6e"
      },
      "execution_count": null,
      "outputs": [
        {
          "output_type": "stream",
          "name": "stdout",
          "text": [
            "[1, 2, 3, 4, 5]\n",
            "[1, 2, 3, 4, 'Carter', 5]\n"
          ]
        }
      ]
    },
    {
      "cell_type": "code",
      "source": [
        "l = [1,2,3,4,5]\n",
        "print(l)\n",
        "l.pop(3)\n",
        "print(l)"
      ],
      "metadata": {
        "colab": {
          "base_uri": "https://localhost:8080/"
        },
        "id": "TR4fxGP2kyCb",
        "outputId": "46f736a5-3c63-4e21-a50e-8f93d9d78548"
      },
      "execution_count": null,
      "outputs": [
        {
          "output_type": "stream",
          "name": "stdout",
          "text": [
            "[1, 2, 3, 4, 5]\n",
            "[1, 2, 3, 5]\n"
          ]
        }
      ]
    },
    {
      "cell_type": "code",
      "source": [
        "l = [1,2,3,4,5]\n",
        "print(l[1:4])"
      ],
      "metadata": {
        "colab": {
          "base_uri": "https://localhost:8080/"
        },
        "id": "0JJEYR5FlOXu",
        "outputId": "cb0a46a5-e065-4632-e9d5-dcc5917db03f"
      },
      "execution_count": null,
      "outputs": [
        {
          "output_type": "stream",
          "name": "stdout",
          "text": [
            "[2, 3, 4]\n"
          ]
        }
      ]
    },
    {
      "cell_type": "code",
      "source": [
        "l = [1,2,3,4,5]\n",
        "l.reverse()\n",
        "print(l)"
      ],
      "metadata": {
        "colab": {
          "base_uri": "https://localhost:8080/"
        },
        "id": "h6FycH7JlhEr",
        "outputId": "2661d167-0a04-48c9-e988-2bd47a91d872"
      },
      "execution_count": null,
      "outputs": [
        {
          "output_type": "stream",
          "name": "stdout",
          "text": [
            "[5, 4, 3, 2, 1]\n"
          ]
        }
      ]
    },
    {
      "cell_type": "code",
      "source": [
        "l = [1,2,3,4,5]\n",
        "print(len(l))"
      ],
      "metadata": {
        "colab": {
          "base_uri": "https://localhost:8080/"
        },
        "id": "HjoPJVVel2aV",
        "outputId": "b18ffef8-f92d-4df8-dbaa-16e2eea13332"
      },
      "execution_count": null,
      "outputs": [
        {
          "output_type": "stream",
          "name": "stdout",
          "text": [
            "5\n"
          ]
        }
      ]
    },
    {
      "cell_type": "code",
      "source": [
        "l = [1,2,3,4,5]\n",
        "print(min(l))\n",
        "print(max(l))"
      ],
      "metadata": {
        "colab": {
          "base_uri": "https://localhost:8080/"
        },
        "id": "wDsFCapVl858",
        "outputId": "e9b5a5ce-e86c-4782-e1ea-6759381713bc"
      },
      "execution_count": null,
      "outputs": [
        {
          "output_type": "stream",
          "name": "stdout",
          "text": [
            "1\n",
            "5\n"
          ]
        }
      ]
    },
    {
      "cell_type": "code",
      "source": [
        "l = [1,2,3,4,5,3,7,8,3,9,3]\n",
        "print(l.count(3))"
      ],
      "metadata": {
        "colab": {
          "base_uri": "https://localhost:8080/"
        },
        "id": "3idbYBOImI-k",
        "outputId": "a7ed5a80-d64f-45c6-a283-92ef3db64899"
      },
      "execution_count": null,
      "outputs": [
        {
          "output_type": "stream",
          "name": "stdout",
          "text": [
            "4\n"
          ]
        }
      ]
    },
    {
      "cell_type": "code",
      "source": [
        "l1 = [1,2,3,4,5]\n",
        "l2 = [7,8,9,10,12]\n",
        "print(l1 + l2)"
      ],
      "metadata": {
        "colab": {
          "base_uri": "https://localhost:8080/"
        },
        "id": "Eadmoj7MmWUg",
        "outputId": "2814f30e-9cfa-4713-9da1-e558448105ba"
      },
      "execution_count": null,
      "outputs": [
        {
          "output_type": "stream",
          "name": "stdout",
          "text": [
            "[1, 2, 3, 4, 5, 7, 8, 9, 10, 12]\n"
          ]
        }
      ]
    },
    {
      "cell_type": "code",
      "source": [
        "l = [1,2,3,4,5]\n",
        "print(l * 3)"
      ],
      "metadata": {
        "colab": {
          "base_uri": "https://localhost:8080/"
        },
        "id": "1OOTCp-Mmkx9",
        "outputId": "9df46699-7563-40ef-c654-4d33ec1b272f"
      },
      "execution_count": null,
      "outputs": [
        {
          "output_type": "stream",
          "name": "stdout",
          "text": [
            "[1, 2, 3, 4, 5, 1, 2, 3, 4, 5, 1, 2, 3, 4, 5]\n"
          ]
        }
      ]
    },
    {
      "cell_type": "code",
      "source": [
        "l = [1,2,3,4,5]\n",
        "print(l.index(4))"
      ],
      "metadata": {
        "colab": {
          "base_uri": "https://localhost:8080/"
        },
        "id": "GjTfemcumxG9",
        "outputId": "dbc915e6-df26-4eb9-d397-28c733ba8827"
      },
      "execution_count": null,
      "outputs": [
        {
          "output_type": "stream",
          "name": "stdout",
          "text": [
            "3\n"
          ]
        }
      ]
    },
    {
      "cell_type": "code",
      "source": [
        "new_list = [4, 2, 6, 5, 0, 1]\n",
        "print(new_list)\n",
        "new_list.sort()\n",
        "print(new_list)"
      ],
      "metadata": {
        "colab": {
          "base_uri": "https://localhost:8080/"
        },
        "id": "hTdPRnd-m_Io",
        "outputId": "4cd169e4-a1d1-4b72-d691-0b244f519def"
      },
      "execution_count": null,
      "outputs": [
        {
          "output_type": "stream",
          "name": "stdout",
          "text": [
            "[4, 2, 6, 5, 0, 1]\n",
            "[0, 1, 2, 4, 5, 6]\n"
          ]
        }
      ]
    },
    {
      "cell_type": "code",
      "source": [
        "new_list = [4, 2, 6, 5, 0, 1]\n",
        "new_list.sort()\n",
        "new_list.reverse()\n",
        "print(new_list)"
      ],
      "metadata": {
        "colab": {
          "base_uri": "https://localhost:8080/"
        },
        "id": "J7gJSxQKnQXB",
        "outputId": "568f6e96-7e15-43ea-871d-b5373216921b"
      },
      "execution_count": null,
      "outputs": [
        {
          "output_type": "stream",
          "name": "stdout",
          "text": [
            "[6, 5, 4, 2, 1, 0]\n"
          ]
        }
      ]
    },
    {
      "cell_type": "code",
      "source": [
        "new_list = [4, 2, 6, 5, 0, 1]\n",
        "new_list1 = sorted(new_list)\n",
        "print(new_list)\n",
        "print(new_list1)"
      ],
      "metadata": {
        "colab": {
          "base_uri": "https://localhost:8080/"
        },
        "id": "FfANASR9nhCL",
        "outputId": "fc6f4f49-e145-42d7-e10c-c41f0717620e"
      },
      "execution_count": null,
      "outputs": [
        {
          "output_type": "stream",
          "name": "stdout",
          "text": [
            "[4, 2, 6, 5, 0, 1]\n",
            "[0, 1, 2, 4, 5, 6]\n"
          ]
        }
      ]
    },
    {
      "cell_type": "code",
      "source": [
        "l= [1,2,3,4,5]\n",
        "l.clear()\n",
        "print(l)"
      ],
      "metadata": {
        "colab": {
          "base_uri": "https://localhost:8080/"
        },
        "id": "LCwNttyins1o",
        "outputId": "284de0ab-d1d7-4015-de33-461685afce72"
      },
      "execution_count": null,
      "outputs": [
        {
          "output_type": "stream",
          "name": "stdout",
          "text": [
            "[]\n"
          ]
        }
      ]
    },
    {
      "cell_type": "code",
      "source": [
        "my_var = 1,2,3,4,5\n",
        "type(my_var)\n",
        "my_var1 = list(my_var)\n",
        "print(my_var1)\n",
        "type(my_var1)"
      ],
      "metadata": {
        "colab": {
          "base_uri": "https://localhost:8080/"
        },
        "id": "mkpoSoYvicbI",
        "outputId": "162f5532-1304-40b0-e8d6-e215ae43a131"
      },
      "execution_count": null,
      "outputs": [
        {
          "output_type": "stream",
          "name": "stdout",
          "text": [
            "[1, 2, 3, 4, 5]\n"
          ]
        },
        {
          "output_type": "execute_result",
          "data": {
            "text/plain": [
              "list"
            ]
          },
          "metadata": {},
          "execution_count": 16
        }
      ]
    },
    {
      "cell_type": "code",
      "source": [
        "my_var = 1,2,3,4,5\n",
        "my_var[3] = 10\n",
        "print(my_var)"
      ],
      "metadata": {
        "colab": {
          "base_uri": "https://localhost:8080/",
          "height": 232
        },
        "id": "HmE9neTejD_H",
        "outputId": "28e268e8-ee92-48eb-ff46-71ef794b0908"
      },
      "execution_count": null,
      "outputs": [
        {
          "output_type": "error",
          "ename": "TypeError",
          "evalue": "ignored",
          "traceback": [
            "\u001b[0;31m---------------------------------------------------------------------------\u001b[0m",
            "\u001b[0;31mTypeError\u001b[0m                                 Traceback (most recent call last)",
            "\u001b[0;32m<ipython-input-4-8346f90075b0>\u001b[0m in \u001b[0;36m<cell line: 2>\u001b[0;34m()\u001b[0m\n\u001b[1;32m      1\u001b[0m \u001b[0mmy_var\u001b[0m \u001b[0;34m=\u001b[0m \u001b[0;36m1\u001b[0m\u001b[0;34m,\u001b[0m\u001b[0;36m2\u001b[0m\u001b[0;34m,\u001b[0m\u001b[0;36m3\u001b[0m\u001b[0;34m,\u001b[0m\u001b[0;36m4\u001b[0m\u001b[0;34m,\u001b[0m\u001b[0;36m5\u001b[0m\u001b[0;34m\u001b[0m\u001b[0;34m\u001b[0m\u001b[0m\n\u001b[0;32m----> 2\u001b[0;31m \u001b[0mmy_var\u001b[0m\u001b[0;34m[\u001b[0m\u001b[0;36m3\u001b[0m\u001b[0;34m]\u001b[0m \u001b[0;34m=\u001b[0m \u001b[0;36m10\u001b[0m\u001b[0;34m\u001b[0m\u001b[0;34m\u001b[0m\u001b[0m\n\u001b[0m\u001b[1;32m      3\u001b[0m \u001b[0mprint\u001b[0m\u001b[0;34m(\u001b[0m\u001b[0mmy_var\u001b[0m\u001b[0;34m)\u001b[0m\u001b[0;34m\u001b[0m\u001b[0;34m\u001b[0m\u001b[0m\n",
            "\u001b[0;31mTypeError\u001b[0m: 'tuple' object does not support item assignment"
          ]
        }
      ]
    },
    {
      "cell_type": "code",
      "source": [
        "my_var = 1,2,3,4,5\n",
        "print(my_var *4)"
      ],
      "metadata": {
        "colab": {
          "base_uri": "https://localhost:8080/"
        },
        "id": "V5ahVaFojlHb",
        "outputId": "4dd7195f-34c9-441a-ad89-7f35fcc9ac7a"
      },
      "execution_count": null,
      "outputs": [
        {
          "output_type": "stream",
          "name": "stdout",
          "text": [
            "(1, 2, 3, 4, 5, 1, 2, 3, 4, 5, 1, 2, 3, 4, 5, 1, 2, 3, 4, 5)\n"
          ]
        }
      ]
    },
    {
      "cell_type": "code",
      "source": [
        "new_tuple = 8,12,7,10,52,33,21,99\n",
        "print(max(new_tuple))\n",
        "print(min(new_tuple))"
      ],
      "metadata": {
        "colab": {
          "base_uri": "https://localhost:8080/"
        },
        "id": "LJ72D1kgjx68",
        "outputId": "67d9e3b0-2097-4c48-9d55-89acb1a43b8f"
      },
      "execution_count": null,
      "outputs": [
        {
          "output_type": "stream",
          "name": "stdout",
          "text": [
            "99\n",
            "7\n"
          ]
        }
      ]
    },
    {
      "cell_type": "code",
      "source": [
        "new_tuple = 8,12,7,10,52,33,21,99\n",
        "print(new_tuple)\n",
        "del(new_tuple)\n",
        "print(new_tuple)"
      ],
      "metadata": {
        "colab": {
          "base_uri": "https://localhost:8080/",
          "height": 249
        },
        "id": "Fe9UnJ5TkecT",
        "outputId": "e8f76883-8599-4d95-f734-ca9e2ac30f5e"
      },
      "execution_count": null,
      "outputs": [
        {
          "output_type": "stream",
          "name": "stdout",
          "text": [
            "(8, 12, 7, 10, 52, 33, 21, 99)\n"
          ]
        },
        {
          "output_type": "error",
          "ename": "NameError",
          "evalue": "ignored",
          "traceback": [
            "\u001b[0;31m---------------------------------------------------------------------------\u001b[0m",
            "\u001b[0;31mNameError\u001b[0m                                 Traceback (most recent call last)",
            "\u001b[0;32m<ipython-input-8-1bcd42e317b6>\u001b[0m in \u001b[0;36m<cell line: 4>\u001b[0;34m()\u001b[0m\n\u001b[1;32m      2\u001b[0m \u001b[0mprint\u001b[0m\u001b[0;34m(\u001b[0m\u001b[0mnew_tuple\u001b[0m\u001b[0;34m)\u001b[0m\u001b[0;34m\u001b[0m\u001b[0;34m\u001b[0m\u001b[0m\n\u001b[1;32m      3\u001b[0m \u001b[0;32mdel\u001b[0m\u001b[0;34m(\u001b[0m\u001b[0mnew_tuple\u001b[0m\u001b[0;34m)\u001b[0m\u001b[0;34m\u001b[0m\u001b[0;34m\u001b[0m\u001b[0m\n\u001b[0;32m----> 4\u001b[0;31m \u001b[0mprint\u001b[0m\u001b[0;34m(\u001b[0m\u001b[0mnew_tuple\u001b[0m\u001b[0;34m)\u001b[0m\u001b[0;34m\u001b[0m\u001b[0;34m\u001b[0m\u001b[0m\n\u001b[0m",
            "\u001b[0;31mNameError\u001b[0m: name 'new_tuple' is not defined"
          ]
        }
      ]
    },
    {
      "cell_type": "code",
      "source": [
        "my_var = 12\n",
        "print(my_var)\n",
        "new_var = float(my_var)\n",
        "print(new_var)"
      ],
      "metadata": {
        "colab": {
          "base_uri": "https://localhost:8080/"
        },
        "id": "GwleGqWTlgi0",
        "outputId": "1838e115-306e-4299-d9a7-3fdfd4cbe671"
      },
      "execution_count": null,
      "outputs": [
        {
          "output_type": "stream",
          "name": "stdout",
          "text": [
            "12\n",
            "12.0\n"
          ]
        }
      ]
    },
    {
      "cell_type": "code",
      "source": [
        "my_var = 98.45\n",
        "print(my_var)\n",
        "new_var = int(my_var)\n",
        "print(new_var)"
      ],
      "metadata": {
        "colab": {
          "base_uri": "https://localhost:8080/"
        },
        "id": "oY7bLcnImB5B",
        "outputId": "ddd9c029-8165-4221-978e-36d97995455d"
      },
      "execution_count": null,
      "outputs": [
        {
          "output_type": "stream",
          "name": "stdout",
          "text": [
            "98.45\n",
            "98\n"
          ]
        }
      ]
    },
    {
      "cell_type": "code",
      "source": [
        "my_var = '12'\n",
        "print(my_var)\n",
        "new_var = int(my_var)\n",
        "print(new_var)"
      ],
      "metadata": {
        "colab": {
          "base_uri": "https://localhost:8080/"
        },
        "id": "z6c3iAbxmOHM",
        "outputId": "00ac6ea4-7355-48fd-fc6b-7ae6e7c548ba"
      },
      "execution_count": null,
      "outputs": [
        {
          "output_type": "stream",
          "name": "stdout",
          "text": [
            "12\n",
            "12\n"
          ]
        }
      ]
    },
    {
      "cell_type": "code",
      "source": [
        "my_var = 12\n",
        "print(my_var)\n",
        "new_var = str(my_var)\n",
        "print(new_var)"
      ],
      "metadata": {
        "colab": {
          "base_uri": "https://localhost:8080/"
        },
        "id": "PhD9121hme8h",
        "outputId": "1e48586b-87f1-42d4-fd48-0bd15ddb4516"
      },
      "execution_count": null,
      "outputs": [
        {
          "output_type": "stream",
          "name": "stdout",
          "text": [
            "12\n",
            "12\n"
          ]
        }
      ]
    },
    {
      "cell_type": "code",
      "source": [
        "my_var = '12'\n",
        "print(my_var)\n",
        "new_var = float(my_var)\n",
        "print(new_var)"
      ],
      "metadata": {
        "colab": {
          "base_uri": "https://localhost:8080/"
        },
        "id": "OESv7FzYmpip",
        "outputId": "9e436071-13a9-4806-8f82-d903079e6609"
      },
      "execution_count": null,
      "outputs": [
        {
          "output_type": "stream",
          "name": "stdout",
          "text": [
            "12\n",
            "12.0\n"
          ]
        }
      ]
    },
    {
      "cell_type": "code",
      "source": [
        "my_var = 98.67\n",
        "print(my_var)\n",
        "new_var = str(my_var)\n",
        "print(new_var)"
      ],
      "metadata": {
        "colab": {
          "base_uri": "https://localhost:8080/"
        },
        "id": "DK_1gCq3mwFY",
        "outputId": "03fe2335-446f-4115-d772-fbd67156b382"
      },
      "execution_count": null,
      "outputs": [
        {
          "output_type": "stream",
          "name": "stdout",
          "text": [
            "98.67\n",
            "98.67\n"
          ]
        }
      ]
    },
    {
      "cell_type": "code",
      "source": [
        "my_list = [1,2, 'Carter', True, 12.6, 2, 'Carter', True]\n",
        "my_set = set(my_list)\n",
        "print(my_set)\n",
        "type(my_set)"
      ],
      "metadata": {
        "colab": {
          "base_uri": "https://localhost:8080/"
        },
        "id": "CfBIb2RWnP_o",
        "outputId": "5485b298-bbd9-43a3-8ec7-b8db5ba18928"
      },
      "execution_count": null,
      "outputs": [
        {
          "output_type": "stream",
          "name": "stdout",
          "text": [
            "{1, 2, 'Carter', 12.6}\n"
          ]
        },
        {
          "output_type": "execute_result",
          "data": {
            "text/plain": [
              "set"
            ]
          },
          "metadata": {},
          "execution_count": 17
        }
      ]
    },
    {
      "cell_type": "code",
      "source": [
        "x = 7\n",
        "x1 = str(x)\n",
        "print(x1)\n",
        "type(x1)"
      ],
      "metadata": {
        "colab": {
          "base_uri": "https://localhost:8080/"
        },
        "id": "y3R218QHodTB",
        "outputId": "91be4544-0f4d-4a2c-9e5d-47556bef593e"
      },
      "execution_count": null,
      "outputs": [
        {
          "output_type": "stream",
          "name": "stdout",
          "text": [
            "7\n"
          ]
        },
        {
          "output_type": "execute_result",
          "data": {
            "text/plain": [
              "str"
            ]
          },
          "metadata": {},
          "execution_count": 20
        }
      ]
    },
    {
      "cell_type": "code",
      "source": [
        "discount = \"3.77\"\n",
        "new_discount = float(discount)\n",
        "print(new_discount)\n",
        "type(new_discount)"
      ],
      "metadata": {
        "colab": {
          "base_uri": "https://localhost:8080/"
        },
        "id": "qiSH0KgDo3L6",
        "outputId": "1bde5f6c-6306-4a84-87bc-251d3d8377c7"
      },
      "execution_count": null,
      "outputs": [
        {
          "output_type": "stream",
          "name": "stdout",
          "text": [
            "3.77\n"
          ]
        },
        {
          "output_type": "execute_result",
          "data": {
            "text/plain": [
              "float"
            ]
          },
          "metadata": {},
          "execution_count": 21
        }
      ]
    },
    {
      "cell_type": "code",
      "source": [
        "grocery_tuple = 'egg' , 'milk' , 'mango'\n",
        "print(grocery_tuple)\n",
        "type(grocery_tuple)"
      ],
      "metadata": {
        "colab": {
          "base_uri": "https://localhost:8080/"
        },
        "id": "rViOVvz0pK9f",
        "outputId": "28c63dbe-245b-4d79-ce22-7c1f71a54baf"
      },
      "execution_count": null,
      "outputs": [
        {
          "output_type": "stream",
          "name": "stdout",
          "text": [
            "('egg', 'milk', 'mango')\n"
          ]
        },
        {
          "output_type": "execute_result",
          "data": {
            "text/plain": [
              "tuple"
            ]
          },
          "metadata": {},
          "execution_count": 28
        }
      ]
    },
    {
      "cell_type": "code",
      "source": [
        "grocery_tuple = 'egg' , 'milk' , 'mango'\n",
        "print(grocery_tuple)\n",
        "grocery_list = list(grocery_tuple)\n",
        "print(grocery_list)\n",
        "type(grocery_list)"
      ],
      "metadata": {
        "colab": {
          "base_uri": "https://localhost:8080/"
        },
        "id": "BYm2m3oQp_U_",
        "outputId": "65de1fe4-e8a0-4991-956f-de2163a04d36"
      },
      "execution_count": null,
      "outputs": [
        {
          "output_type": "stream",
          "name": "stdout",
          "text": [
            "('egg', 'milk', 'mango')\n",
            "['egg', 'milk', 'mango']\n"
          ]
        },
        {
          "output_type": "execute_result",
          "data": {
            "text/plain": [
              "list"
            ]
          },
          "metadata": {},
          "execution_count": 29
        }
      ]
    },
    {
      "cell_type": "markdown",
      "source": [
        "Flow Control"
      ],
      "metadata": {
        "id": "aO9qhryAv84s"
      }
    },
    {
      "cell_type": "code",
      "source": [
        "x = 26\n",
        "\n",
        "if x<10:\n",
        "  print (\"x is less than 10\")\n",
        "\n",
        "elif x<20:\n",
        "  print(\"x is greater than 10\")\n",
        "\n",
        "else:\n",
        "  print(\"x is greater than range\")"
      ],
      "metadata": {
        "colab": {
          "base_uri": "https://localhost:8080/"
        },
        "id": "goMGdbJ6v_u8",
        "outputId": "61e69c54-16f7-4104-d33e-2ac9a6bdafc6"
      },
      "execution_count": null,
      "outputs": [
        {
          "output_type": "stream",
          "name": "stdout",
          "text": [
            "x is greater than range\n"
          ]
        }
      ]
    },
    {
      "cell_type": "code",
      "source": [
        "b = int(input('Enter A Number'))\n",
        "if b%2 == 0:\n",
        "  print(\"This Number Is Even\")\n",
        "elif b%2 != 0:\n",
        "  print(\"This Number Is Odd\")\n",
        "else:\n",
        "  print(\"This Is Not A Valid Number\")"
      ],
      "metadata": {
        "colab": {
          "base_uri": "https://localhost:8080/"
        },
        "id": "POB8apByzwvV",
        "outputId": "5d13e294-8a46-4430-abb0-9b6c60aca673"
      },
      "execution_count": null,
      "outputs": [
        {
          "output_type": "stream",
          "name": "stdout",
          "text": [
            "Enter A Number92\n",
            "This Number Is Even\n"
          ]
        }
      ]
    },
    {
      "cell_type": "code",
      "source": [
        "is_single = []\n",
        "message = 'You can date.' if is_single else 'You cannot date.'\n",
        "print(message)"
      ],
      "metadata": {
        "colab": {
          "base_uri": "https://localhost:8080/"
        },
        "id": "A1q741-J1zl8",
        "outputId": "60ebcf65-141a-4121-8c8f-5a346f1d0854"
      },
      "execution_count": null,
      "outputs": [
        {
          "output_type": "stream",
          "name": "stdout",
          "text": [
            "You cannot date.\n"
          ]
        }
      ]
    },
    {
      "cell_type": "code",
      "source": [
        "number = int(input(\"Enter a number\"))\n",
        "checker = 'This is an even number' if number %2 == 0 else \"This is an odd number\"\n",
        "print(checker)"
      ],
      "metadata": {
        "colab": {
          "base_uri": "https://localhost:8080/"
        },
        "id": "alVRUrig7R-y",
        "outputId": "ee75d313-14d4-41a6-a5b1-876673105a01"
      },
      "execution_count": null,
      "outputs": [
        {
          "output_type": "stream",
          "name": "stdout",
          "text": [
            "Enter a number54\n",
            "This is an even number\n"
          ]
        }
      ]
    },
    {
      "cell_type": "markdown",
      "source": [
        "While Loops"
      ],
      "metadata": {
        "id": "FRQy6pkL79W3"
      }
    },
    {
      "cell_type": "code",
      "source": [
        "x = 0\n",
        "while x <= 10:\n",
        "  print(x)\n",
        "  x += 1\n",
        "\n",
        "else:\n",
        "  print('The number is no longer less than or equal to 10')"
      ],
      "metadata": {
        "colab": {
          "base_uri": "https://localhost:8080/"
        },
        "id": "V9N741ni7-rh",
        "outputId": "9fc50432-886d-4b93-f05c-7023540fc442"
      },
      "execution_count": null,
      "outputs": [
        {
          "output_type": "stream",
          "name": "stdout",
          "text": [
            "0\n",
            "1\n",
            "2\n",
            "3\n",
            "4\n",
            "5\n",
            "6\n",
            "7\n",
            "8\n",
            "9\n",
            "10\n",
            "The number is no longer less than or equal to 10\n"
          ]
        }
      ]
    },
    {
      "cell_type": "code",
      "source": [
        "x = 4\n",
        "while x <=100:\n",
        "  print(x)\n",
        "  x += 1\n"
      ],
      "metadata": {
        "colab": {
          "base_uri": "https://localhost:8080/"
        },
        "id": "XEWQFBAJ-bJR",
        "outputId": "b205bd86-9602-4294-e334-0cc95c693e4b"
      },
      "execution_count": null,
      "outputs": [
        {
          "output_type": "stream",
          "name": "stdout",
          "text": [
            "4\n",
            "5\n",
            "6\n",
            "7\n",
            "8\n",
            "9\n",
            "10\n",
            "11\n",
            "12\n",
            "13\n",
            "14\n",
            "15\n",
            "16\n",
            "17\n",
            "18\n",
            "19\n",
            "20\n",
            "21\n",
            "22\n",
            "23\n",
            "24\n",
            "25\n",
            "26\n",
            "27\n",
            "28\n",
            "29\n",
            "30\n",
            "31\n",
            "32\n",
            "33\n",
            "34\n",
            "35\n",
            "36\n",
            "37\n",
            "38\n",
            "39\n",
            "40\n",
            "41\n",
            "42\n",
            "43\n",
            "44\n",
            "45\n",
            "46\n",
            "47\n",
            "48\n",
            "49\n",
            "50\n",
            "51\n",
            "52\n",
            "53\n",
            "54\n",
            "55\n",
            "56\n",
            "57\n",
            "58\n",
            "59\n",
            "60\n",
            "61\n",
            "62\n",
            "63\n",
            "64\n",
            "65\n",
            "66\n",
            "67\n",
            "68\n",
            "69\n",
            "70\n",
            "71\n",
            "72\n",
            "73\n",
            "74\n",
            "75\n",
            "76\n",
            "77\n",
            "78\n",
            "79\n",
            "80\n",
            "81\n",
            "82\n",
            "83\n",
            "84\n",
            "85\n",
            "86\n",
            "87\n",
            "88\n",
            "89\n",
            "90\n",
            "91\n",
            "92\n",
            "93\n",
            "94\n",
            "95\n",
            "96\n",
            "97\n",
            "98\n",
            "99\n",
            "100\n"
          ]
        }
      ]
    },
    {
      "cell_type": "code",
      "source": [
        "for i in range(10):\n",
        "  print(i)"
      ],
      "metadata": {
        "colab": {
          "base_uri": "https://localhost:8080/"
        },
        "id": "ISA0_sj-_J0I",
        "outputId": "bdbf3325-de04-4abc-8bc0-39d0e364e8f8"
      },
      "execution_count": null,
      "outputs": [
        {
          "output_type": "stream",
          "name": "stdout",
          "text": [
            "0\n",
            "1\n",
            "2\n",
            "3\n",
            "4\n",
            "5\n",
            "6\n",
            "7\n",
            "8\n",
            "9\n"
          ]
        }
      ]
    },
    {
      "cell_type": "code",
      "source": [
        "string = 'Randy Carter'\n",
        "for i in string:\n",
        "  print(i)"
      ],
      "metadata": {
        "colab": {
          "base_uri": "https://localhost:8080/"
        },
        "id": "9hqGaMwC_umy",
        "outputId": "37e5e20c-a8b3-4489-a715-0e0b0dd98e11"
      },
      "execution_count": null,
      "outputs": [
        {
          "output_type": "stream",
          "name": "stdout",
          "text": [
            "R\n",
            "a\n",
            "n\n",
            "d\n",
            "y\n",
            "C\n",
            "a\n",
            "r\n",
            "t\n",
            "e\n",
            "r\n"
          ]
        }
      ]
    },
    {
      "cell_type": "code",
      "source": [
        "my_list = [12, 34.6, \"Carter\", True]\n",
        "for i in my_list:\n",
        "  print(i)"
      ],
      "metadata": {
        "colab": {
          "base_uri": "https://localhost:8080/"
        },
        "id": "qgtz7pheAEKe",
        "outputId": "5c763927-9966-4ae7-d778-6cc32be61a2f"
      },
      "execution_count": null,
      "outputs": [
        {
          "output_type": "stream",
          "name": "stdout",
          "text": [
            "12\n",
            "34.6\n",
            "Carter\n",
            "True\n"
          ]
        }
      ]
    },
    {
      "cell_type": "code",
      "source": [
        "my_tuple = (12, 34.6, \"Carter\", True)\n",
        "for i in my_tuple:\n",
        "  print(i)"
      ],
      "metadata": {
        "colab": {
          "base_uri": "https://localhost:8080/"
        },
        "id": "KJR0tn1jAPr-",
        "outputId": "b054d99f-e1d1-4c10-be44-5155fc418f1a"
      },
      "execution_count": null,
      "outputs": [
        {
          "output_type": "stream",
          "name": "stdout",
          "text": [
            "12\n",
            "34.6\n",
            "Carter\n",
            "True\n"
          ]
        }
      ]
    },
    {
      "cell_type": "code",
      "source": [
        "my_set = {1,2,3,4,5}\n",
        "for i in my_set:\n",
        "  print(i)"
      ],
      "metadata": {
        "colab": {
          "base_uri": "https://localhost:8080/"
        },
        "id": "B-uYcZ6bAZji",
        "outputId": "1b283b1e-148c-4761-9b6f-52418a03d847"
      },
      "execution_count": null,
      "outputs": [
        {
          "output_type": "stream",
          "name": "stdout",
          "text": [
            "1\n",
            "2\n",
            "3\n",
            "4\n",
            "5\n"
          ]
        }
      ]
    },
    {
      "cell_type": "code",
      "source": [
        "my_dict = {\n",
        "    'ABC': 123,\n",
        "    'DEF': 456,\n",
        "    'GHI': 789\n",
        "}\n",
        "for i in my_dict.items():\n",
        "  print(i)"
      ],
      "metadata": {
        "colab": {
          "base_uri": "https://localhost:8080/"
        },
        "id": "-xdb5XSoAl_Q",
        "outputId": "f4630b79-4ef2-4553-eb9f-f18b60875ab6"
      },
      "execution_count": null,
      "outputs": [
        {
          "output_type": "stream",
          "name": "stdout",
          "text": [
            "('ABC', 123)\n",
            "('DEF', 456)\n",
            "('GHI', 789)\n"
          ]
        }
      ]
    },
    {
      "cell_type": "code",
      "source": [
        "powers = [num+10 for num in range(10)] # a for loop defined with list comprehension\n",
        "print(powers)"
      ],
      "metadata": {
        "colab": {
          "base_uri": "https://localhost:8080/"
        },
        "id": "AqIZlLI6CAeg",
        "outputId": "18ceee36-cd8f-403a-940e-813bb75922a6"
      },
      "execution_count": null,
      "outputs": [
        {
          "output_type": "stream",
          "name": "stdout",
          "text": [
            "[10, 11, 12, 13, 14, 15, 16, 17, 18, 19]\n"
          ]
        }
      ]
    },
    {
      "cell_type": "code",
      "source": [
        "for i in range(0,5):\n",
        "  for j in range(0, i+1):\n",
        "    print('*', end='')\n",
        "\n",
        "  "
      ],
      "metadata": {
        "colab": {
          "base_uri": "https://localhost:8080/"
        },
        "id": "9R3GjHhWDthX",
        "outputId": "d7723c2f-573e-43ed-8acf-72a422926941"
      },
      "execution_count": null,
      "outputs": [
        {
          "output_type": "stream",
          "name": "stdout",
          "text": [
            "***************"
          ]
        }
      ]
    },
    {
      "cell_type": "code",
      "source": [
        "try:\n",
        "  print(x_well)\n",
        "except:\n",
        "  print('An error has occured')\n",
        "finally:\n",
        "  print('Our try and catch has ended')"
      ],
      "metadata": {
        "colab": {
          "base_uri": "https://localhost:8080/"
        },
        "id": "BcrwDGaZETco",
        "outputId": "e77f2cee-438d-47d9-abc0-f7c02f59a23b"
      },
      "execution_count": null,
      "outputs": [
        {
          "output_type": "stream",
          "name": "stdout",
          "text": [
            "An error has occured\n",
            "Our try and catch has ended\n"
          ]
        }
      ]
    },
    {
      "cell_type": "code",
      "source": [
        "try:\n",
        "  x = kj\n",
        "  print(x)\n",
        "except:\n",
        "  print('An error has occured')\n",
        "finally:\n",
        "  print('try and catch has ended')"
      ],
      "metadata": {
        "colab": {
          "base_uri": "https://localhost:8080/"
        },
        "id": "oS0O2_pcFzcj",
        "outputId": "2793a8c2-34a1-4362-ad44-c9c60b87feda"
      },
      "execution_count": null,
      "outputs": [
        {
          "output_type": "stream",
          "name": "stdout",
          "text": [
            "An error has occured\n",
            "try and catch has ended\n"
          ]
        }
      ]
    },
    {
      "cell_type": "code",
      "source": [
        "#raise creates a custom error.\n",
        "x = 17\n",
        "if x < 18:\n",
        "  raise Exception(\"You are not old enough!\")"
      ],
      "metadata": {
        "colab": {
          "base_uri": "https://localhost:8080/",
          "height": 232
        },
        "id": "LqHEsOGDGq39",
        "outputId": "e1eeaafc-5105-46cf-c3f0-a89a79493dad"
      },
      "execution_count": null,
      "outputs": [
        {
          "output_type": "error",
          "ename": "Exception",
          "evalue": "ignored",
          "traceback": [
            "\u001b[0;31m---------------------------------------------------------------------------\u001b[0m",
            "\u001b[0;31mException\u001b[0m                                 Traceback (most recent call last)",
            "\u001b[0;32m<ipython-input-6-26310c393db3>\u001b[0m in \u001b[0;36m<cell line: 2>\u001b[0;34m()\u001b[0m\n\u001b[1;32m      1\u001b[0m \u001b[0mx\u001b[0m \u001b[0;34m=\u001b[0m \u001b[0;36m17\u001b[0m\u001b[0;34m\u001b[0m\u001b[0;34m\u001b[0m\u001b[0m\n\u001b[1;32m      2\u001b[0m \u001b[0;32mif\u001b[0m \u001b[0mx\u001b[0m \u001b[0;34m<\u001b[0m \u001b[0;36m18\u001b[0m\u001b[0;34m:\u001b[0m\u001b[0;34m\u001b[0m\u001b[0;34m\u001b[0m\u001b[0m\n\u001b[0;32m----> 3\u001b[0;31m   \u001b[0;32mraise\u001b[0m \u001b[0mException\u001b[0m\u001b[0;34m(\u001b[0m\u001b[0;34m\"You are not old enough!\"\u001b[0m\u001b[0;34m)\u001b[0m\u001b[0;34m\u001b[0m\u001b[0;34m\u001b[0m\u001b[0m\n\u001b[0m",
            "\u001b[0;31mException\u001b[0m: You are not old enough!"
          ]
        }
      ]
    },
    {
      "cell_type": "code",
      "source": [
        "x = \"Randy B. Carter Jr.\"\n",
        "if x != \"Randy S. Carter Jr.\":\n",
        "  raise Exception('You are not authorised to accept this package!')"
      ],
      "metadata": {
        "colab": {
          "base_uri": "https://localhost:8080/",
          "height": 249
        },
        "id": "m0FpFue0Hmbb",
        "outputId": "c242350f-1992-491c-9186-8bc76e77b1ed"
      },
      "execution_count": null,
      "outputs": [
        {
          "output_type": "error",
          "ename": "Exception",
          "evalue": "ignored",
          "traceback": [
            "\u001b[0;31m---------------------------------------------------------------------------\u001b[0m",
            "\u001b[0;31mException\u001b[0m                                 Traceback (most recent call last)",
            "\u001b[0;32m<ipython-input-7-76cc21cf0214>\u001b[0m in \u001b[0;36m<cell line: 2>\u001b[0;34m()\u001b[0m\n\u001b[1;32m      1\u001b[0m \u001b[0mx\u001b[0m \u001b[0;34m=\u001b[0m \u001b[0;34m\"Randy B. Carter Jr.\"\u001b[0m\u001b[0;34m\u001b[0m\u001b[0;34m\u001b[0m\u001b[0m\n\u001b[1;32m      2\u001b[0m \u001b[0;32mif\u001b[0m \u001b[0mx\u001b[0m \u001b[0;34m!=\u001b[0m \u001b[0;34m\"Randy S. Carter Jr.\"\u001b[0m\u001b[0;34m:\u001b[0m\u001b[0;34m\u001b[0m\u001b[0;34m\u001b[0m\u001b[0m\n\u001b[0;32m----> 3\u001b[0;31m   \u001b[0;32mraise\u001b[0m \u001b[0mException\u001b[0m\u001b[0;34m(\u001b[0m\u001b[0;34m'You are not authorised to accept this package!'\u001b[0m\u001b[0;34m)\u001b[0m\u001b[0;34m\u001b[0m\u001b[0;34m\u001b[0m\u001b[0m\n\u001b[0m",
            "\u001b[0;31mException\u001b[0m: You are not authorised to accept this package!"
          ]
        }
      ]
    },
    {
      "cell_type": "code",
      "source": [
        "x = 5\n",
        "if type(x) is not int:\n",
        "  raise Exception(\"This is not a valid entry!\")\n"
      ],
      "metadata": {
        "id": "jxgq9ceYIEOv"
      },
      "execution_count": null,
      "outputs": []
    },
    {
      "cell_type": "markdown",
      "source": [
        "Funtions"
      ],
      "metadata": {
        "id": "dph_yujcI-U9"
      }
    },
    {
      "cell_type": "code",
      "source": [
        "# make a reusable code block\n",
        "def addition(a,b):\n",
        "  return a + b\n",
        "addition(3,9)"
      ],
      "metadata": {
        "colab": {
          "base_uri": "https://localhost:8080/"
        },
        "id": "yKnumSxLI_r8",
        "outputId": "86292f44-2455-43e5-b0c8-39c3010129c5"
      },
      "execution_count": null,
      "outputs": [
        {
          "output_type": "execute_result",
          "data": {
            "text/plain": [
              "12"
            ]
          },
          "metadata": {},
          "execution_count": 12
        }
      ]
    },
    {
      "cell_type": "code",
      "source": [
        "def area_of_circle(r):\n",
        "  return 3.14*r**2\n",
        "area_of_circle(2.6)"
      ],
      "metadata": {
        "colab": {
          "base_uri": "https://localhost:8080/"
        },
        "id": "PqmVWhXtJ-gA",
        "outputId": "d4a202b0-4381-42db-c63f-21da518a19cc"
      },
      "execution_count": null,
      "outputs": [
        {
          "output_type": "execute_result",
          "data": {
            "text/plain": [
              "21.2264"
            ]
          },
          "metadata": {},
          "execution_count": 14
        }
      ]
    },
    {
      "cell_type": "code",
      "source": [
        "#checks if a number is even or not\n",
        "def num(a):\n",
        "  return a%2 == 0\n",
        "num(45)"
      ],
      "metadata": {
        "colab": {
          "base_uri": "https://localhost:8080/"
        },
        "id": "ElXJLw_JKkQt",
        "outputId": "3a089181-b3c1-44ff-ee81-8e03ab8063c5"
      },
      "execution_count": null,
      "outputs": [
        {
          "output_type": "execute_result",
          "data": {
            "text/plain": [
              "False"
            ]
          },
          "metadata": {},
          "execution_count": 16
        }
      ]
    },
    {
      "cell_type": "code",
      "source": [
        "#excercise 6\n",
        "def si(P,r,t):\n",
        "  return P*(1 + r*t)\n",
        "si(185000,0.0625,180)\n",
        "\n"
      ],
      "metadata": {
        "colab": {
          "base_uri": "https://localhost:8080/"
        },
        "id": "a3sjVj0lLAyK",
        "outputId": "8212808e-ba8f-4afd-bd5d-c7f292325982"
      },
      "execution_count": null,
      "outputs": [
        {
          "output_type": "execute_result",
          "data": {
            "text/plain": [
              "2266250.0"
            ]
          },
          "metadata": {},
          "execution_count": 21
        }
      ]
    },
    {
      "cell_type": "markdown",
      "source": [
        "For Practivce later create a fuction for compund interest"
      ],
      "metadata": {
        "id": "Hxxm9S0DOLlk"
      }
    },
    {
      "cell_type": "markdown",
      "source": [
        "Scope"
      ],
      "metadata": {
        "id": "AII-4gr6OZeV"
      }
    },
    {
      "cell_type": "code",
      "source": [
        "#Local Scope\n",
        "def newfunction():\n",
        "  C = 30\n",
        "  print(C)\n",
        "newfunction()"
      ],
      "metadata": {
        "colab": {
          "base_uri": "https://localhost:8080/"
        },
        "id": "IypB14eZObTy",
        "outputId": "387eacc2-50a5-4b09-82eb-9bdf9450431c"
      },
      "execution_count": null,
      "outputs": [
        {
          "output_type": "stream",
          "name": "stdout",
          "text": [
            "30\n"
          ]
        }
      ]
    },
    {
      "cell_type": "code",
      "source": [
        "#Global Scope\n",
        "#What is inside of a function is not accesible outside of a functon but what is outside of a function is accesible from in or out of the function\n",
        "x = 25\n",
        "def samefunction():\n",
        "  print(x)\n",
        "samefunction()"
      ],
      "metadata": {
        "colab": {
          "base_uri": "https://localhost:8080/"
        },
        "id": "QYYezFutPmEY",
        "outputId": "1515ac07-d691-4868-b329-e65762ca7b19"
      },
      "execution_count": null,
      "outputs": [
        {
          "output_type": "stream",
          "name": "stdout",
          "text": [
            "25\n"
          ]
        }
      ]
    },
    {
      "cell_type": "code",
      "source": [
        "def best_function():\n",
        "  global one_function\n",
        "  one_function = 360\n",
        "  print(one_function)\n",
        "best_function()\n",
        "print(one_function)"
      ],
      "metadata": {
        "colab": {
          "base_uri": "https://localhost:8080/"
        },
        "id": "TjgzibyRQkGg",
        "outputId": "be731fba-3c78-4c25-9ab6-134d7286e1bf"
      },
      "execution_count": null,
      "outputs": [
        {
          "output_type": "stream",
          "name": "stdout",
          "text": [
            "360\n",
            "360\n"
          ]
        }
      ]
    },
    {
      "cell_type": "markdown",
      "source": [
        "Lambda Function"
      ],
      "metadata": {
        "id": "pVdf1r4sRtLE"
      }
    },
    {
      "cell_type": "code",
      "source": [
        "x = lambda a,r : a + r\n",
        "print(x(3,7))"
      ],
      "metadata": {
        "colab": {
          "base_uri": "https://localhost:8080/"
        },
        "id": "QvjFffSDRzz2",
        "outputId": "c55b2ca2-05da-46ae-f8e2-d22f4e932672"
      },
      "execution_count": null,
      "outputs": [
        {
          "output_type": "stream",
          "name": "stdout",
          "text": [
            "10\n"
          ]
        }
      ]
    },
    {
      "cell_type": "code",
      "source": [
        "#Lambda can only make one function in a particular program\n",
        "x = lambda num1 , v , num2 : num1 + v + num2\n",
        "print(x(3,8,2.5))"
      ],
      "metadata": {
        "colab": {
          "base_uri": "https://localhost:8080/"
        },
        "id": "gEysxdatScEW",
        "outputId": "ac500438-fef6-459d-a336-5e26b3b8f305"
      },
      "execution_count": null,
      "outputs": [
        {
          "output_type": "stream",
          "name": "stdout",
          "text": [
            "13.5\n"
          ]
        }
      ]
    }
  ]
}